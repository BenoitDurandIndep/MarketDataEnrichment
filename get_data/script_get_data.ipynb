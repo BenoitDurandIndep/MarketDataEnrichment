{
 "cells": [
  {
   "cell_type": "markdown",
   "metadata": {},
   "source": [
    "Script to get data from AlphaVantage from a list of symbols in a file\n",
    "Unknown symbols are listed in a file and I use the AlphaVatage search function to find them"
   ]
  },
  {
   "cell_type": "code",
   "execution_count": 56,
   "metadata": {},
   "outputs": [],
   "source": [
    "from importlib import reload\n",
    "import pandas as pd\n",
    "import numpy as np\n",
    "import time\n",
    "from pathlib import Path\n",
    "import get_data_alphavantage\n",
    "reload(get_data_alphavantage)\n",
    "from get_data_alphavantage import GetDataAlphaVantage\n"
   ]
  },
  {
   "cell_type": "markdown",
   "metadata": {},
   "source": [
    "Load n files with the list of stocks symbols"
   ]
  },
  {
   "cell_type": "code",
   "execution_count": 2,
   "metadata": {},
   "outputs": [
    {
     "data": {
      "text/html": [
       "<div>\n",
       "<style scoped>\n",
       "    .dataframe tbody tr th:only-of-type {\n",
       "        vertical-align: middle;\n",
       "    }\n",
       "\n",
       "    .dataframe tbody tr th {\n",
       "        vertical-align: top;\n",
       "    }\n",
       "\n",
       "    .dataframe thead th {\n",
       "        text-align: right;\n",
       "    }\n",
       "</style>\n",
       "<table border=\"1\" class=\"dataframe\">\n",
       "  <thead>\n",
       "    <tr style=\"text-align: right;\">\n",
       "      <th></th>\n",
       "      <th>Nom</th>\n",
       "      <th>Symbole</th>\n",
       "      <th>Dernier</th>\n",
       "      <th>Var. %</th>\n",
       "      <th>Cap. bour.</th>\n",
       "      <th>Vol.</th>\n",
       "    </tr>\n",
       "  </thead>\n",
       "  <tbody>\n",
       "    <tr>\n",
       "      <th>count</th>\n",
       "      <td>429</td>\n",
       "      <td>429</td>\n",
       "      <td>429</td>\n",
       "      <td>429</td>\n",
       "      <td>429</td>\n",
       "      <td>429</td>\n",
       "    </tr>\n",
       "    <tr>\n",
       "      <th>unique</th>\n",
       "      <td>426</td>\n",
       "      <td>427</td>\n",
       "      <td>393</td>\n",
       "      <td>267</td>\n",
       "      <td>421</td>\n",
       "      <td>374</td>\n",
       "    </tr>\n",
       "    <tr>\n",
       "      <th>top</th>\n",
       "      <td>Crédit Agricole</td>\n",
       "      <td>SCHN</td>\n",
       "      <td>0,00</td>\n",
       "      <td>0,00%</td>\n",
       "      <td>1,32B</td>\n",
       "      <td>0</td>\n",
       "    </tr>\n",
       "    <tr>\n",
       "      <th>freq</th>\n",
       "      <td>2</td>\n",
       "      <td>2</td>\n",
       "      <td>5</td>\n",
       "      <td>88</td>\n",
       "      <td>2</td>\n",
       "      <td>33</td>\n",
       "    </tr>\n",
       "  </tbody>\n",
       "</table>\n",
       "</div>"
      ],
      "text/plain": [
       "                    Nom Symbole Dernier Var. % Cap. bour. Vol.\n",
       "count               429     429     429    429        429  429\n",
       "unique              426     427     393    267        421  374\n",
       "top     Crédit Agricole    SCHN    0,00  0,00%      1,32B    0\n",
       "freq                  2       2       5     88          2   33"
      ]
     },
     "execution_count": 2,
     "metadata": {},
     "output_type": "execute_result"
    }
   ],
   "source": [
    "PATH_DATA = \"../../Data/\"\n",
    "pd.DataFrame()\n",
    "\n",
    "for i in range(1, 10):\n",
    "    path_csv = PATH_DATA+\"top_actions_paris_\"+str(i)+\".csv\"\n",
    "    if i == 1:\n",
    "        df_paris = pd.read_csv(path_csv, sep=\",\")\n",
    "    else:\n",
    "        df_paris=pd.concat([df_paris,pd.read_csv(path_csv, sep=\",\")],sort=False)\n",
    "        \n",
    "\n",
    "df_paris.describe()"
   ]
  },
  {
   "cell_type": "code",
   "execution_count": 53,
   "metadata": {},
   "outputs": [
    {
     "name": "stderr",
     "output_type": "stream",
     "text": [
      "C:\\Users\\hebus\\AppData\\Local\\Temp\\ipykernel_11424\\3593109810.py:1: PerformanceWarning: \n",
      "your performance may suffer as PyTables will pickle object types that it cannot\n",
      "map directly to c-types [inferred_type->mixed,key->block0_values] [items->Index(['Nom', 'Symbole', 'Dernier', 'Var. %', 'Cap. bour.', 'Vol.'], dtype='object')]\n",
      "\n",
      "  df_paris.to_hdf(PATH_DATA+\"list_paris_stocks.hdf\",key=\"Nom\")\n"
     ]
    }
   ],
   "source": [
    "df_paris.to_hdf(PATH_DATA+\"list_paris_stocks.hdf\",key=\"Nom\")\n",
    "df_paris.to_csv(PATH_DATA+\"list_paris_stocks.csv\",sep=\",\")"
   ]
  },
  {
   "cell_type": "code",
   "execution_count": 128,
   "metadata": {},
   "outputs": [],
   "source": [
    "df_paris= pd.read_csv(PATH_DATA+\"list_paris_stocks_comp.csv\", sep=\",\")"
   ]
  },
  {
   "cell_type": "code",
   "execution_count": 129,
   "metadata": {},
   "outputs": [],
   "source": [
    "get_data_alpha = GetDataAlphaVantage()"
   ]
  },
  {
   "cell_type": "markdown",
   "metadata": {},
   "source": [
    "For each row try to request get data from alpha with symbol if not log an error have a break of 15 s between each try\n",
    "Batch of n symbols because of connexion loss"
   ]
  },
  {
   "cell_type": "code",
   "execution_count": 134,
   "metadata": {},
   "outputs": [
    {
     "name": "stdout",
     "output_type": "stream",
     "text": [
      "Try NRG.PAR\n",
      "Try MLCVG.PAR\n",
      "Try IMDA.PAR\n",
      "Try EIFF.PAR\n",
      "Try VIL.PAR\n",
      "Try EXE.PAR\n",
      "Try PERR.PAR\n",
      "Try FDE.PAR\n",
      "Try UFF.PAR\n",
      "Try LIN.PA.PAR\n",
      "Try MMT.PAR\n",
      "Try TFI.PAR\n",
      "Try FII.PAR\n",
      "Try MAU.PAR\n",
      "Try ELEC.PAR\n",
      "Try EC.PAR\n",
      "Try SCHP.PAR\n",
      "Try LPE.PAR\n",
      "Try LI.PAR\n",
      "Try UBI.PAR\n",
      "Try FLY.PAR\n",
      "Try SESG.PAR\n",
      "Try TKO.PAR\n",
      "Try SCR.PAR\n",
      "Try SBDG.PAR\n",
      "ERROR  requesting for SBDG.PAR \n",
      "Try AF.PAR\n",
      "Try ALTA.PAR\n",
      "Try POM.PAR\n",
      "Try MMB.PAR\n",
      "Try GDS.PAR\n"
     ]
    }
   ],
   "source": [
    "list_err = []\n",
    "group = 4\n",
    "group_size = 40\n",
    "limit = (1+group)*group_size\n",
    "if limit > len(df_paris.index):\n",
    "    limit = len(df_paris.index)\n",
    "\n",
    "for i in range(group*group_size, limit):\n",
    "    symb = df_paris.iloc[i][\"Symbole\"]\n",
    "    path_w_csv = PATH_DATA+\"dl_alpha/\"+symb+\"_1w.csv\"\n",
    "    if \".PAR\" not in symb:\n",
    "        symb = symb+\".PAR\"\n",
    "    print(f\"Try {symb}\")\n",
    "    try:\n",
    "        data_1w, meta = get_data_alpha.get_stock(\n",
    "            symbol=symb, interval=\"1w\", adjusted=True)\n",
    "        data_1w = pd.DataFrame(data_1w)\n",
    "        data_1w.to_csv(path_or_buf=path_w_csv, sep=\",\")\n",
    "    except ValueError:\n",
    "        print(f\"ERROR  requesting for {symb} \")\n",
    "        list_err.append([symb, df_paris.iloc[i][\"Nom\"]])\n",
    "    time.sleep(15)\n",
    "\n",
    "df_list_err = pd.DataFrame(list_err, columns=[\"Symbol Error\", \"Symbol Name\"])\n",
    "pd.DataFrame(df_list_err).to_csv(\n",
    "    path_or_buf=PATH_DATA+\"dl_alpha/symbol_err_\"+str(group)+\".csv\", sep=\",\")\n"
   ]
  },
  {
   "cell_type": "markdown",
   "metadata": {},
   "source": [
    "Concat of files with symbols in error"
   ]
  },
  {
   "cell_type": "code",
   "execution_count": 50,
   "metadata": {},
   "outputs": [
    {
     "data": {
      "text/html": [
       "<div>\n",
       "<style scoped>\n",
       "    .dataframe tbody tr th:only-of-type {\n",
       "        vertical-align: middle;\n",
       "    }\n",
       "\n",
       "    .dataframe tbody tr th {\n",
       "        vertical-align: top;\n",
       "    }\n",
       "\n",
       "    .dataframe thead th {\n",
       "        text-align: right;\n",
       "    }\n",
       "</style>\n",
       "<table border=\"1\" class=\"dataframe\">\n",
       "  <thead>\n",
       "    <tr style=\"text-align: right;\">\n",
       "      <th></th>\n",
       "      <th>Unnamed: 0</th>\n",
       "    </tr>\n",
       "  </thead>\n",
       "  <tbody>\n",
       "    <tr>\n",
       "      <th>count</th>\n",
       "      <td>168.000000</td>\n",
       "    </tr>\n",
       "    <tr>\n",
       "      <th>mean</th>\n",
       "      <td>11.005952</td>\n",
       "    </tr>\n",
       "    <tr>\n",
       "      <th>std</th>\n",
       "      <td>7.590963</td>\n",
       "    </tr>\n",
       "    <tr>\n",
       "      <th>min</th>\n",
       "      <td>0.000000</td>\n",
       "    </tr>\n",
       "    <tr>\n",
       "      <th>25%</th>\n",
       "      <td>5.000000</td>\n",
       "    </tr>\n",
       "    <tr>\n",
       "      <th>50%</th>\n",
       "      <td>10.000000</td>\n",
       "    </tr>\n",
       "    <tr>\n",
       "      <th>75%</th>\n",
       "      <td>16.000000</td>\n",
       "    </tr>\n",
       "    <tr>\n",
       "      <th>max</th>\n",
       "      <td>30.000000</td>\n",
       "    </tr>\n",
       "  </tbody>\n",
       "</table>\n",
       "</div>"
      ],
      "text/plain": [
       "       Unnamed: 0\n",
       "count  168.000000\n",
       "mean    11.005952\n",
       "std      7.590963\n",
       "min      0.000000\n",
       "25%      5.000000\n",
       "50%     10.000000\n",
       "75%     16.000000\n",
       "max     30.000000"
      ]
     },
     "execution_count": 50,
     "metadata": {},
     "output_type": "execute_result"
    }
   ],
   "source": [
    "for i in range(0, 9):\n",
    "    path_csv = PATH_DATA+\"dl_alpha/symbol_err_\"+str(i)+\".csv\"\n",
    "    if i == 1:\n",
    "        df_err_symb = pd.read_csv(path_csv, sep=\",\")\n",
    "    else:\n",
    "        df_err_symb=pd.concat([df_err_symb,pd.read_csv(path_csv, sep=\",\")],sort=False)\n",
    "        #df_paris.append(pd.read_csv(path_csv, sep=\",\"))\n",
    "\n",
    "df_err_symb.to_csv(path_or_buf=PATH_DATA+\"dl_alpha/symbol_err_full.csv\", sep=\",\")\n",
    "df_err_symb.describe()"
   ]
  },
  {
   "cell_type": "markdown",
   "metadata": {},
   "source": [
    "Check if we have every symbol in the downloaded files or in the err file"
   ]
  },
  {
   "cell_type": "code",
   "execution_count": 55,
   "metadata": {},
   "outputs": [
    {
     "data": {
      "text/html": [
       "<div>\n",
       "<style scoped>\n",
       "    .dataframe tbody tr th:only-of-type {\n",
       "        vertical-align: middle;\n",
       "    }\n",
       "\n",
       "    .dataframe tbody tr th {\n",
       "        vertical-align: top;\n",
       "    }\n",
       "\n",
       "    .dataframe thead th {\n",
       "        text-align: right;\n",
       "    }\n",
       "</style>\n",
       "<table border=\"1\" class=\"dataframe\">\n",
       "  <thead>\n",
       "    <tr style=\"text-align: right;\">\n",
       "      <th></th>\n",
       "      <th>Symbol OK</th>\n",
       "    </tr>\n",
       "  </thead>\n",
       "  <tbody>\n",
       "    <tr>\n",
       "      <th>count</th>\n",
       "      <td>225</td>\n",
       "    </tr>\n",
       "    <tr>\n",
       "      <th>unique</th>\n",
       "      <td>225</td>\n",
       "    </tr>\n",
       "    <tr>\n",
       "      <th>top</th>\n",
       "      <td>2MX</td>\n",
       "    </tr>\n",
       "    <tr>\n",
       "      <th>freq</th>\n",
       "      <td>1</td>\n",
       "    </tr>\n",
       "  </tbody>\n",
       "</table>\n",
       "</div>"
      ],
      "text/plain": [
       "       Symbol OK\n",
       "count        225\n",
       "unique       225\n",
       "top          2MX\n",
       "freq           1"
      ]
     },
     "execution_count": 55,
     "metadata": {},
     "output_type": "execute_result"
    }
   ],
   "source": [
    "dir_base = Path(PATH_DATA+\"dl_alpha\")\n",
    "list_ok = []\n",
    "for f in dir_base.iterdir():\n",
    "    if f.is_file() and \"PAR_1w.csv\" in f.name:\n",
    "        # f.rename(dir_base/f.name.replace(\".PAR_1w\",\"_PAR_1w\"))\n",
    "        list_ok.append(f.name.replace(\"_PAR_1w.csv\", \"\"))\n",
    "df_list_ok = pd.DataFrame(list_ok, columns=[\"Symbol OK\"])\n",
    "\n",
    "# df_err_symb[\"Symbol Clean\"]=df_err_symb[\"Symbol Error\"].replace(\".PAR\",\"\")\n",
    "# df_err_symb[\"Symbol Clean\"]\n",
    "# df_err_symb.replace(to_replace=\".PAR\",value=\"\",inplace=True,regex=True)\n",
    "df_merge=df_paris.merge(df_err_symb, on=[\"Symbole\"],how=\"left\",indicator=True)\n",
    " df_err_symb=pd.read_csv(PATH_DATA+\"dl_alpha/symbol_err_full.csv\", sep=\",\")\n",
    "df_err_symb.head()\n"
   ]
  },
  {
   "cell_type": "markdown",
   "metadata": {},
   "source": [
    "call the search service to try to find the symbol\n",
    "still use batch"
   ]
  },
  {
   "cell_type": "code",
   "execution_count": 124,
   "metadata": {},
   "outputs": [
    {
     "name": "stdout",
     "output_type": "stream",
     "text": [
      "Try : Nicox\n",
      "Try : Foncière Volta\n",
      "Try : Actia Group\n",
      "Try : Aroca Del Pinar\n",
      "Try : Interparfums\n"
     ]
    }
   ],
   "source": [
    "df_res = pd.DataFrame()\n",
    "df_err = pd.DataFrame()\n",
    "group = 5\n",
    "group_size = 40\n",
    "limit = (1+group)*group_size\n",
    "if limit > len(df_err_symb.index):\n",
    "    limit = len(df_err_symb.index)\n",
    "\n",
    "for i in range(group*group_size, limit):\n",
    "    try:\n",
    "        symb_name = df_err_symb.iloc[i][\"Symbol Name\"]\n",
    "        print(f\"Try : {symb_name}\")\n",
    "        df_tmp_symb, meta = get_data_alpha.search_symbol(keyword=symb_name)\n",
    "        if len(df_tmp_symb.index) > 0:\n",
    "            df_res = pd.concat([df_res, df_tmp_symb.iloc[[0]]])\n",
    "        else:\n",
    "            df_err = pd.concat([df_err, df_err_symb.iloc[[i]]])\n",
    "\n",
    "    except (ValueError,KeyError):\n",
    "        df_err = pd.concat([df_err, df_err_symb.iloc[[i]]])\n",
    "    time.sleep(15)\n",
    "\n",
    "df_res.to_csv(path_or_buf=PATH_DATA+\"dl_alpha/symbol_found_\" +\n",
    "              str(group)+\".csv\", sep=\",\")\n",
    "df_err.to_csv(path_or_buf=PATH_DATA +\n",
    "              \"dl_alpha/symbol_not_found_\"+str(group)+\".csv\", sep=\",\")\n"
   ]
  }
 ],
 "metadata": {
  "kernelspec": {
   "display_name": "Python 3.10.5 ('.env': venv)",
   "language": "python",
   "name": "python3"
  },
  "language_info": {
   "codemirror_mode": {
    "name": "ipython",
    "version": 3
   },
   "file_extension": ".py",
   "mimetype": "text/x-python",
   "name": "python",
   "nbconvert_exporter": "python",
   "pygments_lexer": "ipython3",
   "version": "3.10.5"
  },
  "orig_nbformat": 4,
  "vscode": {
   "interpreter": {
    "hash": "588c4d5d0abde81a8ebfffdc736a46bcad9c5b92be7be13fb4e3cb13087ce002"
   }
  }
 },
 "nbformat": 4,
 "nbformat_minor": 2
}
